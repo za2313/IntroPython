{
 "cells": [
  {
   "cell_type": "code",
   "execution_count": null,
   "metadata": {},
   "outputs": [],
   "source": []
  }
 ],
 "metadata": {
  "kernelspec": {
   "display_name": "Python 3.10.4 ('intropython')",
   "language": "python",
   "name": "python3"
  },
  "language_info": {
   "name": "python",
   "version": "3.10.4"
  },
  "orig_nbformat": 4,
  "vscode": {
   "interpreter": {
    "hash": "19a09be4d2c9931a0331d04356acf3298727b4992ad248af519f02d3fd1fe524"
   }
  }
 },
 "nbformat": 4,
 "nbformat_minor": 2
}
