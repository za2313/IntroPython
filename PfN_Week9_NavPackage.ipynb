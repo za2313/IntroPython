{
 "cells": [
  {
   "cell_type": "markdown",
   "id": "84a3b596-9ddd-47fe-9afd-9e3ab084d07f",
   "metadata": {},
   "source": [
    "# Python for Neuroscientists Week 9 - Navigating Packages + Data Science"
   ]
  },
  {
   "cell_type": "markdown",
   "id": "b6f7b9e8-4f04-47a4-baf1-aaf0c00c703f",
   "metadata": {},
   "source": [
    "## Warmup: loading data\n",
    "We'll be using the same SST dataset that we used two classes ago. Please load in this dataset. If you don't remember how to do this ... google it :)\n",
    "\n",
    "Also just a reminder that you may have to import a few packages to make this work. This is also up to you to figure out.\n",
    "\n",
    "<details>\n",
    "<summary>Click here for a hint!</summary>\n",
    "https://www.w3schools.com/python/pandas/pandas_csv.asp <br>\n",
    "</details>"
   ]
  },
  {
   "cell_type": "code",
   "execution_count": 1,
   "id": "ee2db724-8fec-4609-b068-7198751fdf84",
   "metadata": {},
   "outputs": [
    {
     "name": "stdout",
     "output_type": "stream",
     "text": [
      "            dF/F  time_from_stim     cell_id  exposure  trial_id  omitted  \\\n",
      "0       0.213396       -1.228129  1086500633  familiar        24    False   \n",
      "1      -0.096333       -1.195810  1086500633  familiar        24    False   \n",
      "2      -0.117812       -1.163491  1086500633  familiar        24    False   \n",
      "3       0.096526       -1.131172  1086500633  familiar        24    False   \n",
      "4      -0.000783       -1.098852  1086500633  familiar        24    False   \n",
      "...          ...             ...         ...       ...       ...      ...   \n",
      "689770 -0.116568        1.357393  1086500770     novel      4802    False   \n",
      "689771 -0.011238        1.389711  1086500770     novel      4802    False   \n",
      "689772  0.057402        1.422030  1086500770     novel      4802    False   \n",
      "689773  0.114362        1.454349  1086500770     novel      4802    False   \n",
      "689774 -0.073561        1.486668  1086500770     novel      4802    False   \n",
      "\n",
      "         pupil_area  mean_response  \n",
      "0       5636.081391       0.055830  \n",
      "1       5636.081391       0.055830  \n",
      "2       5636.081391       0.055830  \n",
      "3       5636.081391       0.055830  \n",
      "4       5636.081391       0.055830  \n",
      "...             ...            ...  \n",
      "689770  7985.740772      -0.040271  \n",
      "689771  7985.740772      -0.040271  \n",
      "689772  7985.740772      -0.040271  \n",
      "689773  7985.740772      -0.040271  \n",
      "689774  7985.740772      -0.040271  \n",
      "\n",
      "[689775 rows x 8 columns]\n"
     ]
    }
   ],
   "source": [
    "#Load in the SST dataset here\n",
    "import pandas as pd\n",
    "df = pd.read_csv ('SST_data.csv')\n",
    "print(df)"
   ]
  },
  {
   "cell_type": "markdown",
   "id": "6c6f610c-10e2-4193-a67f-04359ad36ac6",
   "metadata": {},
   "source": [
    "## Running statistical testing in Python\n",
    "Let's start with an easy problem. Say I want to compare pupil area between familiar and novel trials - let's begin by selecting a sample of each. "
   ]
  },
  {
   "cell_type": "code",
   "execution_count": 2,
   "id": "bdccced8-2d8e-4ce4-b2a4-4b3a1e84b637",
   "metadata": {},
   "outputs": [],
   "source": [
    "#imports\n",
    "import numpy as np\n",
    "import pandas as pd\n",
    "import matplotlib.pyplot as plt\n",
    "import seaborn as sns\n",
    "from scipy import stats\n",
    "\n",
    "sns.set_style('ticks')\n",
    "sns.set_context('talk')"
   ]
  },
  {
   "cell_type": "code",
   "execution_count": 3,
   "id": "331922e1-1e1f-4308-9a80-aa41bf82aca5",
   "metadata": {},
   "outputs": [],
   "source": [
    "familiar_sample = df[df.exposure == 'familiar'].sample(15)\n",
    "novel_sample = df[df.exposure == 'novel'].sample(15)\n",
    "#here, we've taken samples of novel and familiar trials"
   ]
  },
  {
   "cell_type": "code",
   "execution_count": 5,
   "id": "f6b8fc52-21ae-4bfd-a012-7bf1ffdba766",
   "metadata": {},
   "outputs": [
    {
     "data": {
      "text/html": [
       "<div>\n",
       "<style scoped>\n",
       "    .dataframe tbody tr th:only-of-type {\n",
       "        vertical-align: middle;\n",
       "    }\n",
       "\n",
       "    .dataframe tbody tr th {\n",
       "        vertical-align: top;\n",
       "    }\n",
       "\n",
       "    .dataframe thead th {\n",
       "        text-align: right;\n",
       "    }\n",
       "</style>\n",
       "<table border=\"1\" class=\"dataframe\">\n",
       "  <thead>\n",
       "    <tr style=\"text-align: right;\">\n",
       "      <th></th>\n",
       "      <th>dF/F</th>\n",
       "      <th>time_from_stim</th>\n",
       "      <th>cell_id</th>\n",
       "      <th>exposure</th>\n",
       "      <th>trial_id</th>\n",
       "      <th>omitted</th>\n",
       "      <th>pupil_area</th>\n",
       "      <th>mean_response</th>\n",
       "    </tr>\n",
       "  </thead>\n",
       "  <tbody>\n",
       "    <tr>\n",
       "      <th>3193</th>\n",
       "      <td>-0.030574</td>\n",
       "      <td>0.323192</td>\n",
       "      <td>1086500392</td>\n",
       "      <td>familiar</td>\n",
       "      <td>81</td>\n",
       "      <td>False</td>\n",
       "      <td>5597.616173</td>\n",
       "      <td>-0.037435</td>\n",
       "    </tr>\n",
       "    <tr>\n",
       "      <th>152301</th>\n",
       "      <td>-0.035924</td>\n",
       "      <td>0.904937</td>\n",
       "      <td>1086500872</td>\n",
       "      <td>familiar</td>\n",
       "      <td>1669</td>\n",
       "      <td>False</td>\n",
       "      <td>5669.572399</td>\n",
       "      <td>0.047943</td>\n",
       "    </tr>\n",
       "    <tr>\n",
       "      <th>279395</th>\n",
       "      <td>0.108589</td>\n",
       "      <td>-1.228129</td>\n",
       "      <td>1086500194</td>\n",
       "      <td>familiar</td>\n",
       "      <td>3040</td>\n",
       "      <td>True</td>\n",
       "      <td>6167.112126</td>\n",
       "      <td>0.117511</td>\n",
       "    </tr>\n",
       "    <tr>\n",
       "      <th>73118</th>\n",
       "      <td>0.210952</td>\n",
       "      <td>-0.646384</td>\n",
       "      <td>1086501106</td>\n",
       "      <td>familiar</td>\n",
       "      <td>834</td>\n",
       "      <td>False</td>\n",
       "      <td>5640.560463</td>\n",
       "      <td>0.076773</td>\n",
       "    </tr>\n",
       "    <tr>\n",
       "      <th>235260</th>\n",
       "      <td>-0.127615</td>\n",
       "      <td>0.872618</td>\n",
       "      <td>1086500297</td>\n",
       "      <td>familiar</td>\n",
       "      <td>2563</td>\n",
       "      <td>False</td>\n",
       "      <td>5956.287167</td>\n",
       "      <td>-0.017696</td>\n",
       "    </tr>\n",
       "    <tr>\n",
       "      <th>242372</th>\n",
       "      <td>-0.027502</td>\n",
       "      <td>-0.032319</td>\n",
       "      <td>1086500297</td>\n",
       "      <td>familiar</td>\n",
       "      <td>2616</td>\n",
       "      <td>True</td>\n",
       "      <td>5919.570953</td>\n",
       "      <td>0.004812</td>\n",
       "    </tr>\n",
       "    <tr>\n",
       "      <th>162711</th>\n",
       "      <td>-0.027719</td>\n",
       "      <td>-0.549426</td>\n",
       "      <td>1086500092</td>\n",
       "      <td>familiar</td>\n",
       "      <td>1765</td>\n",
       "      <td>False</td>\n",
       "      <td>5998.324446</td>\n",
       "      <td>0.012282</td>\n",
       "    </tr>\n",
       "    <tr>\n",
       "      <th>373438</th>\n",
       "      <td>-0.080532</td>\n",
       "      <td>-0.161596</td>\n",
       "      <td>1086500392</td>\n",
       "      <td>familiar</td>\n",
       "      <td>4362</td>\n",
       "      <td>True</td>\n",
       "      <td>7710.716761</td>\n",
       "      <td>-0.016178</td>\n",
       "    </tr>\n",
       "    <tr>\n",
       "      <th>181264</th>\n",
       "      <td>-0.094674</td>\n",
       "      <td>0.193915</td>\n",
       "      <td>1086501106</td>\n",
       "      <td>familiar</td>\n",
       "      <td>1988</td>\n",
       "      <td>True</td>\n",
       "      <td>5956.703181</td>\n",
       "      <td>-0.025803</td>\n",
       "    </tr>\n",
       "    <tr>\n",
       "      <th>217763</th>\n",
       "      <td>-0.013007</td>\n",
       "      <td>1.292768</td>\n",
       "      <td>1086499911</td>\n",
       "      <td>familiar</td>\n",
       "      <td>2342</td>\n",
       "      <td>True</td>\n",
       "      <td>6278.434933</td>\n",
       "      <td>0.026078</td>\n",
       "    </tr>\n",
       "    <tr>\n",
       "      <th>114251</th>\n",
       "      <td>-0.001528</td>\n",
       "      <td>-0.872618</td>\n",
       "      <td>1086500633</td>\n",
       "      <td>familiar</td>\n",
       "      <td>1273</td>\n",
       "      <td>False</td>\n",
       "      <td>5763.502698</td>\n",
       "      <td>0.107461</td>\n",
       "    </tr>\n",
       "    <tr>\n",
       "      <th>256378</th>\n",
       "      <td>0.048553</td>\n",
       "      <td>-0.646384</td>\n",
       "      <td>1086499783</td>\n",
       "      <td>familiar</td>\n",
       "      <td>2776</td>\n",
       "      <td>True</td>\n",
       "      <td>6648.357832</td>\n",
       "      <td>-0.030180</td>\n",
       "    </tr>\n",
       "    <tr>\n",
       "      <th>78791</th>\n",
       "      <td>0.004407</td>\n",
       "      <td>1.389725</td>\n",
       "      <td>1086500770</td>\n",
       "      <td>familiar</td>\n",
       "      <td>888</td>\n",
       "      <td>True</td>\n",
       "      <td>5819.042356</td>\n",
       "      <td>-0.027188</td>\n",
       "    </tr>\n",
       "    <tr>\n",
       "      <th>250475</th>\n",
       "      <td>0.097643</td>\n",
       "      <td>0.872618</td>\n",
       "      <td>1086500092</td>\n",
       "      <td>familiar</td>\n",
       "      <td>2675</td>\n",
       "      <td>True</td>\n",
       "      <td>6269.463052</td>\n",
       "      <td>-0.042678</td>\n",
       "    </tr>\n",
       "    <tr>\n",
       "      <th>230567</th>\n",
       "      <td>0.248924</td>\n",
       "      <td>0.290873</td>\n",
       "      <td>1086500633</td>\n",
       "      <td>familiar</td>\n",
       "      <td>2482</td>\n",
       "      <td>True</td>\n",
       "      <td>7604.078386</td>\n",
       "      <td>0.002931</td>\n",
       "    </tr>\n",
       "    <tr>\n",
       "      <th>689002</th>\n",
       "      <td>-0.015011</td>\n",
       "      <td>1.260436</td>\n",
       "      <td>1086500770</td>\n",
       "      <td>novel</td>\n",
       "      <td>4793</td>\n",
       "      <td>True</td>\n",
       "      <td>8854.512776</td>\n",
       "      <td>0.001983</td>\n",
       "    </tr>\n",
       "    <tr>\n",
       "      <th>573013</th>\n",
       "      <td>-0.036579</td>\n",
       "      <td>-0.323189</td>\n",
       "      <td>1086500194</td>\n",
       "      <td>novel</td>\n",
       "      <td>3145</td>\n",
       "      <td>True</td>\n",
       "      <td>7180.618821</td>\n",
       "      <td>0.019369</td>\n",
       "    </tr>\n",
       "    <tr>\n",
       "      <th>551488</th>\n",
       "      <td>-0.029832</td>\n",
       "      <td>-0.969566</td>\n",
       "      <td>1086500092</td>\n",
       "      <td>novel</td>\n",
       "      <td>2763</td>\n",
       "      <td>False</td>\n",
       "      <td>7020.191883</td>\n",
       "      <td>0.001249</td>\n",
       "    </tr>\n",
       "    <tr>\n",
       "      <th>629830</th>\n",
       "      <td>0.031110</td>\n",
       "      <td>0.872610</td>\n",
       "      <td>1086499783</td>\n",
       "      <td>novel</td>\n",
       "      <td>3880</td>\n",
       "      <td>True</td>\n",
       "      <td>7694.522330</td>\n",
       "      <td>0.025626</td>\n",
       "    </tr>\n",
       "    <tr>\n",
       "      <th>689763</th>\n",
       "      <td>0.071812</td>\n",
       "      <td>1.131161</td>\n",
       "      <td>1086500770</td>\n",
       "      <td>novel</td>\n",
       "      <td>4802</td>\n",
       "      <td>False</td>\n",
       "      <td>7985.740772</td>\n",
       "      <td>-0.040271</td>\n",
       "    </tr>\n",
       "    <tr>\n",
       "      <th>596159</th>\n",
       "      <td>0.002126</td>\n",
       "      <td>0.517102</td>\n",
       "      <td>1086499783</td>\n",
       "      <td>novel</td>\n",
       "      <td>3387</td>\n",
       "      <td>True</td>\n",
       "      <td>7280.781034</td>\n",
       "      <td>0.008074</td>\n",
       "    </tr>\n",
       "    <tr>\n",
       "      <th>442858</th>\n",
       "      <td>0.055857</td>\n",
       "      <td>-0.969566</td>\n",
       "      <td>1086500092</td>\n",
       "      <td>novel</td>\n",
       "      <td>749</td>\n",
       "      <td>False</td>\n",
       "      <td>6228.705638</td>\n",
       "      <td>0.005591</td>\n",
       "    </tr>\n",
       "    <tr>\n",
       "      <th>655278</th>\n",
       "      <td>-0.030938</td>\n",
       "      <td>-0.807972</td>\n",
       "      <td>1086500770</td>\n",
       "      <td>novel</td>\n",
       "      <td>4214</td>\n",
       "      <td>False</td>\n",
       "      <td>7941.297356</td>\n",
       "      <td>0.009609</td>\n",
       "    </tr>\n",
       "    <tr>\n",
       "      <th>478764</th>\n",
       "      <td>-0.062308</td>\n",
       "      <td>0.193913</td>\n",
       "      <td>1086499628</td>\n",
       "      <td>novel</td>\n",
       "      <td>1587</td>\n",
       "      <td>True</td>\n",
       "      <td>6002.295297</td>\n",
       "      <td>-0.012844</td>\n",
       "    </tr>\n",
       "    <tr>\n",
       "      <th>515097</th>\n",
       "      <td>-0.136738</td>\n",
       "      <td>1.422030</td>\n",
       "      <td>1086499783</td>\n",
       "      <td>novel</td>\n",
       "      <td>2144</td>\n",
       "      <td>False</td>\n",
       "      <td>6343.382583</td>\n",
       "      <td>0.019208</td>\n",
       "    </tr>\n",
       "    <tr>\n",
       "      <th>654505</th>\n",
       "      <td>-0.030479</td>\n",
       "      <td>-1.066523</td>\n",
       "      <td>1086500770</td>\n",
       "      <td>novel</td>\n",
       "      <td>4210</td>\n",
       "      <td>True</td>\n",
       "      <td>7807.414391</td>\n",
       "      <td>0.006714</td>\n",
       "    </tr>\n",
       "    <tr>\n",
       "      <th>450196</th>\n",
       "      <td>-0.146363</td>\n",
       "      <td>-0.064638</td>\n",
       "      <td>1086500392</td>\n",
       "      <td>novel</td>\n",
       "      <td>881</td>\n",
       "      <td>True</td>\n",
       "      <td>6036.619577</td>\n",
       "      <td>0.001932</td>\n",
       "    </tr>\n",
       "    <tr>\n",
       "      <th>442170</th>\n",
       "      <td>0.039716</td>\n",
       "      <td>-1.228117</td>\n",
       "      <td>1086500194</td>\n",
       "      <td>novel</td>\n",
       "      <td>739</td>\n",
       "      <td>False</td>\n",
       "      <td>6138.087829</td>\n",
       "      <td>0.004463</td>\n",
       "    </tr>\n",
       "    <tr>\n",
       "      <th>681181</th>\n",
       "      <td>0.001759</td>\n",
       "      <td>1.228117</td>\n",
       "      <td>1086499911</td>\n",
       "      <td>novel</td>\n",
       "      <td>4622</td>\n",
       "      <td>True</td>\n",
       "      <td>8102.485637</td>\n",
       "      <td>-0.030597</td>\n",
       "    </tr>\n",
       "    <tr>\n",
       "      <th>480126</th>\n",
       "      <td>0.019098</td>\n",
       "      <td>0.258551</td>\n",
       "      <td>1086500770</td>\n",
       "      <td>novel</td>\n",
       "      <td>1593</td>\n",
       "      <td>False</td>\n",
       "      <td>6883.731251</td>\n",
       "      <td>0.017934</td>\n",
       "    </tr>\n",
       "  </tbody>\n",
       "</table>\n",
       "</div>"
      ],
      "text/plain": [
       "            dF/F  time_from_stim     cell_id  exposure  trial_id  omitted  \\\n",
       "3193   -0.030574        0.323192  1086500392  familiar        81    False   \n",
       "152301 -0.035924        0.904937  1086500872  familiar      1669    False   \n",
       "279395  0.108589       -1.228129  1086500194  familiar      3040     True   \n",
       "73118   0.210952       -0.646384  1086501106  familiar       834    False   \n",
       "235260 -0.127615        0.872618  1086500297  familiar      2563    False   \n",
       "242372 -0.027502       -0.032319  1086500297  familiar      2616     True   \n",
       "162711 -0.027719       -0.549426  1086500092  familiar      1765    False   \n",
       "373438 -0.080532       -0.161596  1086500392  familiar      4362     True   \n",
       "181264 -0.094674        0.193915  1086501106  familiar      1988     True   \n",
       "217763 -0.013007        1.292768  1086499911  familiar      2342     True   \n",
       "114251 -0.001528       -0.872618  1086500633  familiar      1273    False   \n",
       "256378  0.048553       -0.646384  1086499783  familiar      2776     True   \n",
       "78791   0.004407        1.389725  1086500770  familiar       888     True   \n",
       "250475  0.097643        0.872618  1086500092  familiar      2675     True   \n",
       "230567  0.248924        0.290873  1086500633  familiar      2482     True   \n",
       "689002 -0.015011        1.260436  1086500770     novel      4793     True   \n",
       "573013 -0.036579       -0.323189  1086500194     novel      3145     True   \n",
       "551488 -0.029832       -0.969566  1086500092     novel      2763    False   \n",
       "629830  0.031110        0.872610  1086499783     novel      3880     True   \n",
       "689763  0.071812        1.131161  1086500770     novel      4802    False   \n",
       "596159  0.002126        0.517102  1086499783     novel      3387     True   \n",
       "442858  0.055857       -0.969566  1086500092     novel       749    False   \n",
       "655278 -0.030938       -0.807972  1086500770     novel      4214    False   \n",
       "478764 -0.062308        0.193913  1086499628     novel      1587     True   \n",
       "515097 -0.136738        1.422030  1086499783     novel      2144    False   \n",
       "654505 -0.030479       -1.066523  1086500770     novel      4210     True   \n",
       "450196 -0.146363       -0.064638  1086500392     novel       881     True   \n",
       "442170  0.039716       -1.228117  1086500194     novel       739    False   \n",
       "681181  0.001759        1.228117  1086499911     novel      4622     True   \n",
       "480126  0.019098        0.258551  1086500770     novel      1593    False   \n",
       "\n",
       "         pupil_area  mean_response  \n",
       "3193    5597.616173      -0.037435  \n",
       "152301  5669.572399       0.047943  \n",
       "279395  6167.112126       0.117511  \n",
       "73118   5640.560463       0.076773  \n",
       "235260  5956.287167      -0.017696  \n",
       "242372  5919.570953       0.004812  \n",
       "162711  5998.324446       0.012282  \n",
       "373438  7710.716761      -0.016178  \n",
       "181264  5956.703181      -0.025803  \n",
       "217763  6278.434933       0.026078  \n",
       "114251  5763.502698       0.107461  \n",
       "256378  6648.357832      -0.030180  \n",
       "78791   5819.042356      -0.027188  \n",
       "250475  6269.463052      -0.042678  \n",
       "230567  7604.078386       0.002931  \n",
       "689002  8854.512776       0.001983  \n",
       "573013  7180.618821       0.019369  \n",
       "551488  7020.191883       0.001249  \n",
       "629830  7694.522330       0.025626  \n",
       "689763  7985.740772      -0.040271  \n",
       "596159  7280.781034       0.008074  \n",
       "442858  6228.705638       0.005591  \n",
       "655278  7941.297356       0.009609  \n",
       "478764  6002.295297      -0.012844  \n",
       "515097  6343.382583       0.019208  \n",
       "654505  7807.414391       0.006714  \n",
       "450196  6036.619577       0.001932  \n",
       "442170  6138.087829       0.004463  \n",
       "681181  8102.485637      -0.030597  \n",
       "480126  6883.731251       0.017934  "
      ]
     },
     "execution_count": 5,
     "metadata": {},
     "output_type": "execute_result"
    }
   ],
   "source": [
    "sampled_data = pd.concat([familiar_sample, novel_sample])\n",
    "sampled_data"
   ]
  },
  {
   "cell_type": "code",
   "execution_count": 8,
   "id": "4b05504d-d86e-497f-b9d0-f9004a5fd311",
   "metadata": {},
   "outputs": [
    {
     "data": {
      "text/plain": [
       "<AxesSubplot:xlabel='exposure', ylabel='pupil_area'>"
      ]
     },
     "execution_count": 8,
     "metadata": {},
     "output_type": "execute_result"
    },
    {
     "data": {
      "image/png": "[encoded data removed]",
      "text/plain": [
       "<Figure size 640x480 with 1 Axes>"
      ]
     },
     "metadata": {},
     "output_type": "display_data"
    }
   ],
   "source": [
    "sns.stripplot(data = sampled_data, x = 'exposure', y = 'pupil_area', size = 7)\n"
   ]
  },
  {
   "cell_type": "code",
   "execution_count": 12,
   "id": "7745acfe",
   "metadata": {},
   "outputs": [],
   "source": [
    "a = familiar_sample[\"pupil_area\"]\n",
    "b = novel_sample[\"pupil_area\"]"
   ]
  },
  {
   "cell_type": "code",
   "execution_count": 11,
   "id": "54dcb4b1",
   "metadata": {},
   "outputs": [
    {
     "data": {
      "text/html": [
       "<div>\n",
       "<style scoped>\n",
       "    .dataframe tbody tr th:only-of-type {\n",
       "        vertical-align: middle;\n",
       "    }\n",
       "\n",
       "    .dataframe tbody tr th {\n",
       "        vertical-align: top;\n",
       "    }\n",
       "\n",
       "    .dataframe thead th {\n",
       "        text-align: right;\n",
       "    }\n",
       "</style>\n",
       "<table border=\"1\" class=\"dataframe\">\n",
       "  <thead>\n",
       "    <tr style=\"text-align: right;\">\n",
       "      <th></th>\n",
       "      <th>dF/F</th>\n",
       "      <th>time_from_stim</th>\n",
       "      <th>cell_id</th>\n",
       "      <th>exposure</th>\n",
       "      <th>trial_id</th>\n",
       "      <th>omitted</th>\n",
       "      <th>pupil_area</th>\n",
       "      <th>mean_response</th>\n",
       "    </tr>\n",
       "  </thead>\n",
       "  <tbody>\n",
       "    <tr>\n",
       "      <th>3193</th>\n",
       "      <td>-0.030574</td>\n",
       "      <td>0.323192</td>\n",
       "      <td>1086500392</td>\n",
       "      <td>familiar</td>\n",
       "      <td>81</td>\n",
       "      <td>False</td>\n",
       "      <td>5597.616173</td>\n",
       "      <td>-0.037435</td>\n",
       "    </tr>\n",
       "    <tr>\n",
       "      <th>152301</th>\n",
       "      <td>-0.035924</td>\n",
       "      <td>0.904937</td>\n",
       "      <td>1086500872</td>\n",
       "      <td>familiar</td>\n",
       "      <td>1669</td>\n",
       "      <td>False</td>\n",
       "      <td>5669.572399</td>\n",
       "      <td>0.047943</td>\n",
       "    </tr>\n",
       "    <tr>\n",
       "      <th>279395</th>\n",
       "      <td>0.108589</td>\n",
       "      <td>-1.228129</td>\n",
       "      <td>1086500194</td>\n",
       "      <td>familiar</td>\n",
       "      <td>3040</td>\n",
       "      <td>True</td>\n",
       "      <td>6167.112126</td>\n",
       "      <td>0.117511</td>\n",
       "    </tr>\n",
       "    <tr>\n",
       "      <th>73118</th>\n",
       "      <td>0.210952</td>\n",
       "      <td>-0.646384</td>\n",
       "      <td>1086501106</td>\n",
       "      <td>familiar</td>\n",
       "      <td>834</td>\n",
       "      <td>False</td>\n",
       "      <td>5640.560463</td>\n",
       "      <td>0.076773</td>\n",
       "    </tr>\n",
       "    <tr>\n",
       "      <th>235260</th>\n",
       "      <td>-0.127615</td>\n",
       "      <td>0.872618</td>\n",
       "      <td>1086500297</td>\n",
       "      <td>familiar</td>\n",
       "      <td>2563</td>\n",
       "      <td>False</td>\n",
       "      <td>5956.287167</td>\n",
       "      <td>-0.017696</td>\n",
       "    </tr>\n",
       "    <tr>\n",
       "      <th>242372</th>\n",
       "      <td>-0.027502</td>\n",
       "      <td>-0.032319</td>\n",
       "      <td>1086500297</td>\n",
       "      <td>familiar</td>\n",
       "      <td>2616</td>\n",
       "      <td>True</td>\n",
       "      <td>5919.570953</td>\n",
       "      <td>0.004812</td>\n",
       "    </tr>\n",
       "    <tr>\n",
       "      <th>162711</th>\n",
       "      <td>-0.027719</td>\n",
       "      <td>-0.549426</td>\n",
       "      <td>1086500092</td>\n",
       "      <td>familiar</td>\n",
       "      <td>1765</td>\n",
       "      <td>False</td>\n",
       "      <td>5998.324446</td>\n",
       "      <td>0.012282</td>\n",
       "    </tr>\n",
       "    <tr>\n",
       "      <th>373438</th>\n",
       "      <td>-0.080532</td>\n",
       "      <td>-0.161596</td>\n",
       "      <td>1086500392</td>\n",
       "      <td>familiar</td>\n",
       "      <td>4362</td>\n",
       "      <td>True</td>\n",
       "      <td>7710.716761</td>\n",
       "      <td>-0.016178</td>\n",
       "    </tr>\n",
       "    <tr>\n",
       "      <th>181264</th>\n",
       "      <td>-0.094674</td>\n",
       "      <td>0.193915</td>\n",
       "      <td>1086501106</td>\n",
       "      <td>familiar</td>\n",
       "      <td>1988</td>\n",
       "      <td>True</td>\n",
       "      <td>5956.703181</td>\n",
       "      <td>-0.025803</td>\n",
       "    </tr>\n",
       "    <tr>\n",
       "      <th>217763</th>\n",
       "      <td>-0.013007</td>\n",
       "      <td>1.292768</td>\n",
       "      <td>1086499911</td>\n",
       "      <td>familiar</td>\n",
       "      <td>2342</td>\n",
       "      <td>True</td>\n",
       "      <td>6278.434933</td>\n",
       "      <td>0.026078</td>\n",
       "    </tr>\n",
       "    <tr>\n",
       "      <th>114251</th>\n",
       "      <td>-0.001528</td>\n",
       "      <td>-0.872618</td>\n",
       "      <td>1086500633</td>\n",
       "      <td>familiar</td>\n",
       "      <td>1273</td>\n",
       "      <td>False</td>\n",
       "      <td>5763.502698</td>\n",
       "      <td>0.107461</td>\n",
       "    </tr>\n",
       "    <tr>\n",
       "      <th>256378</th>\n",
       "      <td>0.048553</td>\n",
       "      <td>-0.646384</td>\n",
       "      <td>1086499783</td>\n",
       "      <td>familiar</td>\n",
       "      <td>2776</td>\n",
       "      <td>True</td>\n",
       "      <td>6648.357832</td>\n",
       "      <td>-0.030180</td>\n",
       "    </tr>\n",
       "    <tr>\n",
       "      <th>78791</th>\n",
       "      <td>0.004407</td>\n",
       "      <td>1.389725</td>\n",
       "      <td>1086500770</td>\n",
       "      <td>familiar</td>\n",
       "      <td>888</td>\n",
       "      <td>True</td>\n",
       "      <td>5819.042356</td>\n",
       "      <td>-0.027188</td>\n",
       "    </tr>\n",
       "    <tr>\n",
       "      <th>250475</th>\n",
       "      <td>0.097643</td>\n",
       "      <td>0.872618</td>\n",
       "      <td>1086500092</td>\n",
       "      <td>familiar</td>\n",
       "      <td>2675</td>\n",
       "      <td>True</td>\n",
       "      <td>6269.463052</td>\n",
       "      <td>-0.042678</td>\n",
       "    </tr>\n",
       "    <tr>\n",
       "      <th>230567</th>\n",
       "      <td>0.248924</td>\n",
       "      <td>0.290873</td>\n",
       "      <td>1086500633</td>\n",
       "      <td>familiar</td>\n",
       "      <td>2482</td>\n",
       "      <td>True</td>\n",
       "      <td>7604.078386</td>\n",
       "      <td>0.002931</td>\n",
       "    </tr>\n",
       "  </tbody>\n",
       "</table>\n",
       "</div>"
      ],
      "text/plain": [
       "            dF/F  time_from_stim     cell_id  exposure  trial_id  omitted  \\\n",
       "3193   -0.030574        0.323192  1086500392  familiar        81    False   \n",
       "152301 -0.035924        0.904937  1086500872  familiar      1669    False   \n",
       "279395  0.108589       -1.228129  1086500194  familiar      3040     True   \n",
       "73118   0.210952       -0.646384  1086501106  familiar       834    False   \n",
       "235260 -0.127615        0.872618  1086500297  familiar      2563    False   \n",
       "242372 -0.027502       -0.032319  1086500297  familiar      2616     True   \n",
       "162711 -0.027719       -0.549426  1086500092  familiar      1765    False   \n",
       "373438 -0.080532       -0.161596  1086500392  familiar      4362     True   \n",
       "181264 -0.094674        0.193915  1086501106  familiar      1988     True   \n",
       "217763 -0.013007        1.292768  1086499911  familiar      2342     True   \n",
       "114251 -0.001528       -0.872618  1086500633  familiar      1273    False   \n",
       "256378  0.048553       -0.646384  1086499783  familiar      2776     True   \n",
       "78791   0.004407        1.389725  1086500770  familiar       888     True   \n",
       "250475  0.097643        0.872618  1086500092  familiar      2675     True   \n",
       "230567  0.248924        0.290873  1086500633  familiar      2482     True   \n",
       "\n",
       "         pupil_area  mean_response  \n",
       "3193    5597.616173      -0.037435  \n",
       "152301  5669.572399       0.047943  \n",
       "279395  6167.112126       0.117511  \n",
       "73118   5640.560463       0.076773  \n",
       "235260  5956.287167      -0.017696  \n",
       "242372  5919.570953       0.004812  \n",
       "162711  5998.324446       0.012282  \n",
       "373438  7710.716761      -0.016178  \n",
       "181264  5956.703181      -0.025803  \n",
       "217763  6278.434933       0.026078  \n",
       "114251  5763.502698       0.107461  \n",
       "256378  6648.357832      -0.030180  \n",
       "78791   5819.042356      -0.027188  \n",
       "250475  6269.463052      -0.042678  \n",
       "230567  7604.078386       0.002931  "
      ]
     },
     "execution_count": 11,
     "metadata": {},
     "output_type": "execute_result"
    }
   ],
   "source": []
  },
  {
   "cell_type": "code",
   "execution_count": 13,
   "id": "65d75593",
   "metadata": {},
   "outputs": [
    {
     "data": {
      "text/plain": [
       "Ttest_indResult(statistic=-3.393248198289886, pvalue=0.002078395740659691)"
      ]
     },
     "execution_count": 13,
     "metadata": {},
     "output_type": "execute_result"
    }
   ],
   "source": [
    "from scipy.stats import ttest_ind\n",
    "ttest_ind(a,b)"
   ]
  },
  {
   "cell_type": "markdown",
   "id": "1514b184-dc38-4697-a677-6ebe328395d2",
   "metadata": {},
   "source": [
    "### Problem 1\n",
    "Alright, time for a little challenge. You're going to figure out how to do stats in python. Well, to be specific, you're going to tell me what to do.\n",
    "\n",
    "<details>\n",
    "<summary>Click here for a hint!</summary>\n",
    "Sorry, you don't get a hint, you're the instructor. ¯\\(°_o)/¯ <br>\n",
    "</details>"
   ]
  },
  {
   "cell_type": "code",
   "execution_count": null,
   "id": "e56b8f0a-5283-4acb-93cb-3e702e795ac7",
   "metadata": {},
   "outputs": [],
   "source": []
  },
  {
   "cell_type": "markdown",
   "id": "ef6074a7-0bcb-49c9-8c22-0c46ba52c112",
   "metadata": {},
   "source": [
    "### Problem 2\n",
    "Your turn! Please run a one-way ANOVA on mean_response during omitted trials. I'll be such a great instructor and even set up your data for you.\n",
    "\n",
    "As a bonus, please plot your data as well.\n",
    "\n",
    "Google away! As a hint, you should be using scipy for this."
   ]
  },
  {
   "cell_type": "code",
   "execution_count": 19,
   "id": "c4d570e4",
   "metadata": {},
   "outputs": [],
   "source": [
    "from scipy.stats import f_oneway"
   ]
  },
  {
   "cell_type": "code",
   "execution_count": 20,
   "id": "3a60ab86-7c1a-4b25-b94b-096702a4129e",
   "metadata": {},
   "outputs": [],
   "source": [
    "present_sample = df[df.omitted == False].sample(15)\n",
    "omitted_sample = df[df.omitted == True].sample(15)"
   ]
  },
  {
   "cell_type": "code",
   "execution_count": 21,
   "id": "b7cc33f5-7ddf-44c8-8491-1696b56df1e1",
   "metadata": {},
   "outputs": [],
   "source": [
    "a = present_sample[\"mean_response\"]\n",
    "b = omitted_sample[\"mean_response\"]"
   ]
  },
  {
   "cell_type": "code",
   "execution_count": 22,
   "id": "01d484cc",
   "metadata": {},
   "outputs": [
    {
     "data": {
      "text/plain": [
       "F_onewayResult(statistic=15.360563171685047, pvalue=0.0005215646628509038)"
      ]
     },
     "execution_count": 22,
     "metadata": {},
     "output_type": "execute_result"
    }
   ],
   "source": [
    "f_oneway(a, b)"
   ]
  },
  {
   "cell_type": "markdown",
   "id": "8c67d2b3-1f08-4d1f-af19-7631900b7d26",
   "metadata": {},
   "source": [
    "## Navigating a package\n",
    "\n",
    "What if we want to run a linear regression, say on pupil_area vs. mean_response?\n",
    "\n",
    "Let's take this opportunity to walk though sklearn in a little bit more detail."
   ]
  },
  {
   "cell_type": "code",
   "execution_count": 23,
   "id": "608d75a8-973a-47f1-bce6-2becaf3ba961",
   "metadata": {},
   "outputs": [
    {
     "data": {
      "text/plain": [
       "<AxesSubplot:xlabel='pupil_area', ylabel='mean_response'>"
      ]
     },
     "execution_count": 23,
     "metadata": {},
     "output_type": "execute_result"
    },
    {
     "data": {
      "image/png": "[encoded data removed]",
      "text/plain": [
       "<Figure size 640x480 with 1 Axes>"
      ]
     },
     "metadata": {},
     "output_type": "display_data"
    }
   ],
   "source": [
    "#Plot our data\n",
    "df_sample = df.sample(100)\n",
    "sns.scatterplot(data = df_sample, x = 'pupil_area', y = 'mean_response')"
   ]
  },
  {
   "cell_type": "code",
   "execution_count": 31,
   "id": "fbfd8065-aa88-4e4b-9daa-c0c53bd9c3f9",
   "metadata": {},
   "outputs": [],
   "source": [
    "#arrange our data\n",
    "X = df_sample['pupil_area'].dropna()\n",
    "y = df.loc[X.index]['mean_response'].to_numpy().reshape(-1,1)\n",
    "X = X.to_numpy().reshape(-1,1)"
   ]
  },
  {
   "cell_type": "code",
   "execution_count": 32,
   "id": "815f91fb-2329-46e6-bc2f-156f84504f5e",
   "metadata": {},
   "outputs": [],
   "source": [
    "#run regression\n",
    "from sklearn.linear_model import LinearRegression\n",
    "reg = LinearRegression().fit(X,y)"
   ]
  },
  {
   "cell_type": "code",
   "execution_count": 35,
   "id": "ad8cd1d3-b5ab-40d8-afa2-d104e68469af",
   "metadata": {},
   "outputs": [
    {
     "data": {
      "text/plain": [
       "array([[0.00522782]])"
      ]
     },
     "execution_count": 35,
     "metadata": {},
     "output_type": "execute_result"
    }
   ],
   "source": [
    "#check results\n",
    "reg.predict(np.array([[6000]]))"
   ]
  },
  {
   "cell_type": "markdown",
   "id": "9c4a7edd-cf61-42b6-8621-1a3624bb1687",
   "metadata": {},
   "source": [
    "### Builiding a simple classifier"
   ]
  },
  {
   "cell_type": "code",
   "execution_count": 36,
   "id": "f883ff16-1e79-4493-a175-90058fa60c53",
   "metadata": {},
   "outputs": [],
   "source": [
    "from sklearn.pipeline import make_pipeline\n",
    "from sklearn.preprocessing import StandardScaler\n",
    "from sklearn.svm import SVC"
   ]
  },
  {
   "cell_type": "code",
   "execution_count": 47,
   "id": "4f38a120-5d38-4177-bc4e-4e1a468ecd24",
   "metadata": {},
   "outputs": [],
   "source": [
    "X = df['dF/F'].to_numpy().reshape(-1, 85)[0:4000]\n",
    "y = df['omitted'].to_numpy().reshape(-1, 85)[0:4000,0]"
   ]
  },
  {
   "cell_type": "code",
   "execution_count": null,
   "id": "e7b5e0df",
   "metadata": {},
   "outputs": [],
   "source": [
    "# based on traces, predict whether image is projected or not\n",
    "# x is trials and time point\n",
    "# y is true/false"
   ]
  },
  {
   "cell_type": "code",
   "execution_count": 48,
   "id": "d00c747c",
   "metadata": {},
   "outputs": [
    {
     "data": {
      "text/html": [
       "<style>#sk-container-id-3 {color: black;background-color: white;}#sk-container-id-3 pre{padding: 0;}#sk-container-id-3 div.sk-toggleable {background-color: white;}#sk-container-id-3 label.sk-toggleable__label {cursor: pointer;display: block;width: 100%;margin-bottom: 0;padding: 0.3em;box-sizing: border-box;text-align: center;}#sk-container-id-3 label.sk-toggleable__label-arrow:before {content: \"▸\";float: left;margin-right: 0.25em;color: #696969;}#sk-container-id-3 label.sk-toggleable__label-arrow:hover:before {color: black;}#sk-container-id-3 div.sk-estimator:hover label.sk-toggleable__label-arrow:before {color: black;}#sk-container-id-3 div.sk-toggleable__content {max-height: 0;max-width: 0;overflow: hidden;text-align: left;background-color: #f0f8ff;}#sk-container-id-3 div.sk-toggleable__content pre {margin: 0.2em;color: black;border-radius: 0.25em;background-color: #f0f8ff;}#sk-container-id-3 input.sk-toggleable__control:checked~div.sk-toggleable__content {max-height: 200px;max-width: 100%;overflow: auto;}#sk-container-id-3 input.sk-toggleable__control:checked~label.sk-toggleable__label-arrow:before {content: \"▾\";}#sk-container-id-3 div.sk-estimator input.sk-toggleable__control:checked~label.sk-toggleable__label {background-color: #d4ebff;}#sk-container-id-3 div.sk-label input.sk-toggleable__control:checked~label.sk-toggleable__label {background-color: #d4ebff;}#sk-container-id-3 input.sk-hidden--visually {border: 0;clip: rect(1px 1px 1px 1px);clip: rect(1px, 1px, 1px, 1px);height: 1px;margin: -1px;overflow: hidden;padding: 0;position: absolute;width: 1px;}#sk-container-id-3 div.sk-estimator {font-family: monospace;background-color: #f0f8ff;border: 1px dotted black;border-radius: 0.25em;box-sizing: border-box;margin-bottom: 0.5em;}#sk-container-id-3 div.sk-estimator:hover {background-color: #d4ebff;}#sk-container-id-3 div.sk-parallel-item::after {content: \"\";width: 100%;border-bottom: 1px solid gray;flex-grow: 1;}#sk-container-id-3 div.sk-label:hover label.sk-toggleable__label {background-color: #d4ebff;}#sk-container-id-3 div.sk-serial::before {content: \"\";position: absolute;border-left: 1px solid gray;box-sizing: border-box;top: 0;bottom: 0;left: 50%;z-index: 0;}#sk-container-id-3 div.sk-serial {display: flex;flex-direction: column;align-items: center;background-color: white;padding-right: 0.2em;padding-left: 0.2em;position: relative;}#sk-container-id-3 div.sk-item {position: relative;z-index: 1;}#sk-container-id-3 div.sk-parallel {display: flex;align-items: stretch;justify-content: center;background-color: white;position: relative;}#sk-container-id-3 div.sk-item::before, #sk-container-id-3 div.sk-parallel-item::before {content: \"\";position: absolute;border-left: 1px solid gray;box-sizing: border-box;top: 0;bottom: 0;left: 50%;z-index: -1;}#sk-container-id-3 div.sk-parallel-item {display: flex;flex-direction: column;z-index: 1;position: relative;background-color: white;}#sk-container-id-3 div.sk-parallel-item:first-child::after {align-self: flex-end;width: 50%;}#sk-container-id-3 div.sk-parallel-item:last-child::after {align-self: flex-start;width: 50%;}#sk-container-id-3 div.sk-parallel-item:only-child::after {width: 0;}#sk-container-id-3 div.sk-dashed-wrapped {border: 1px dashed gray;margin: 0 0.4em 0.5em 0.4em;box-sizing: border-box;padding-bottom: 0.4em;background-color: white;}#sk-container-id-3 div.sk-label label {font-family: monospace;font-weight: bold;display: inline-block;line-height: 1.2em;}#sk-container-id-3 div.sk-label-container {text-align: center;}#sk-container-id-3 div.sk-container {/* jupyter's `normalize.less` sets `[hidden] { display: none; }` but bootstrap.min.css set `[hidden] { display: none !important; }` so we also need the `!important` here to be able to override the default hidden behavior on the sphinx rendered scikit-learn.org. See: https://github.com/scikit-learn/scikit-learn/issues/21755 */display: inline-block !important;position: relative;}#sk-container-id-3 div.sk-text-repr-fallback {display: none;}</style><div id=\"sk-container-id-3\" class=\"sk-top-container\"><div class=\"sk-text-repr-fallback\"><pre>SVC()</pre><b>In a Jupyter environment, please rerun this cell to show the HTML representation or trust the notebook. <br />On GitHub, the HTML representation is unable to render, please try loading this page with nbviewer.org.</b></div><div class=\"sk-container\" hidden><div class=\"sk-item\"><div class=\"sk-estimator sk-toggleable\"><input class=\"sk-toggleable__control sk-hidden--visually\" id=\"sk-estimator-id-3\" type=\"checkbox\" checked><label for=\"sk-estimator-id-3\" class=\"sk-toggleable__label sk-toggleable__label-arrow\">SVC</label><div class=\"sk-toggleable__content\"><pre>SVC()</pre></div></div></div></div></div>"
      ],
      "text/plain": [
       "SVC()"
      ]
     },
     "execution_count": 48,
     "metadata": {},
     "output_type": "execute_result"
    }
   ],
   "source": [
    "from sklearn import svm\n",
    "clf = svm.SVC()\n",
    "clf.fit(X,y)"
   ]
  },
  {
   "cell_type": "code",
   "execution_count": 53,
   "id": "7e13878c",
   "metadata": {},
   "outputs": [],
   "source": [
    "X = df['dF/F'].to_numpy().reshape(-1, 85)\n",
    "y_test = df['omitted'].to_numpy().reshape(-1, 85)[:,0]"
   ]
  },
  {
   "cell_type": "code",
   "execution_count": 51,
   "id": "98a85df2",
   "metadata": {},
   "outputs": [
    {
     "data": {
      "text/plain": [
       "(array([  60,   61,   62, ..., 3969, 3970, 3971]),)"
      ]
     },
     "execution_count": 51,
     "metadata": {},
     "output_type": "execute_result"
    }
   ],
   "source": [
    "np.where(y_test)"
   ]
  },
  {
   "cell_type": "code",
   "execution_count": 57,
   "id": "1286a8cc",
   "metadata": {},
   "outputs": [
    {
     "data": {
      "text/plain": [
       "array([False])"
      ]
     },
     "execution_count": 57,
     "metadata": {},
     "output_type": "execute_result"
    }
   ],
   "source": [
    "clf.predict([X[49]])"
   ]
  },
  {
   "cell_type": "code",
   "execution_count": null,
   "id": "21968373",
   "metadata": {},
   "outputs": [],
   "source": []
  }
 ],
 "metadata": {
  "kernelspec": {
   "display_name": "Python 3.10.4 ('intropython')",
   "language": "python",
   "name": "python3"
  },
  "language_info": {
   "codemirror_mode": {
    "name": "ipython",
    "version": 3
   },
   "file_extension": ".py",
   "mimetype": "text/x-python",
   "name": "python",
   "nbconvert_exporter": "python",
   "pygments_lexer": "ipython3",
   "version": "3.10.4"
  },
  "toc-autonumbering": true,
  "toc-showcode": false,
  "toc-showmarkdowntxt": false,
  "toc-showtags": false,
  "vscode": {
   "interpreter": {
    "hash": "19a09be4d2c9931a0331d04356acf3298727b4992ad248af519f02d3fd1fe524"
   }
  }
 },
 "nbformat": 4,
 "nbformat_minor": 5
}
