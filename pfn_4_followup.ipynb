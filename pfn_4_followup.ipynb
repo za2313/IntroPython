{
  "cells": [
    {
      "cell_type": "markdown",
      "metadata": {
        "id": "utPkDkfSl2o3"
      },
      "source": [
        "# List Comprehension\n",
        "With something called **list comprehension**, you can use a for loop in line to create dictionaries and lists like this:"
      ]
    },
    {
      "cell_type": "code",
      "execution_count": 3,
      "metadata": {
        "colab": {
          "base_uri": "https://localhost:8080/"
        },
        "id": "yZhjx5ycmBgP",
        "outputId": "46ec902d-d37c-49b4-ebbd-cc9eef3c7fe2"
      },
      "outputs": [
        {
          "name": "stdout",
          "output_type": "stream",
          "text": [
            "[0, 4, 16]\n",
            "[0, 4, 16]\n"
          ]
        }
      ],
      "source": [
        "my_list = [x**2  for x in range(6) if x%2==0] # only uses x's where the condition is true\n",
        "print(my_list)\n",
        "\n",
        "# The above code is equivalent to:\n",
        "my_list = []\n",
        "for x in range(6):\n",
        "  if x%2 == 0:\n",
        "    my_list.append(x**2)\n",
        "\n",
        "print(my_list)"
      ]
    },
    {
      "cell_type": "code",
      "execution_count": 4,
      "metadata": {
        "colab": {
          "base_uri": "https://localhost:8080/"
        },
        "id": "bydyJ7sFl9YJ",
        "outputId": "995b8188-851b-4182-aa66-56d8a0c235b1"
      },
      "outputs": [
        {
          "name": "stdout",
          "output_type": "stream",
          "text": [
            "{0: 0, 1: 1, 2: 4, 3: 9, 4: 16, 5: 25}\n",
            "{0: 0, 1: 1, 2: 4, 3: 9, 4: 16, 5: 25}\n"
          ]
        }
      ],
      "source": [
        "my_dict = {x:x**2 for x in range(6)}\n",
        "print(my_dict)\n",
        "\n",
        "# The above code is equivalent to:\n",
        "my_dict = {}\n",
        "for x in range(6):\n",
        "  my_dict[x] = x**2\n",
        "\n",
        "print(my_dict)\n"
      ]
    },
    {
      "cell_type": "markdown",
      "metadata": {
        "id": "7f4EavzsRXgj"
      },
      "source": [
        "### Exercise:\n",
        "1. Create a list using list comprehension where any values between 2 and 10 inclusive that are divisible by 3 are added to the list. Assign the list to a variable called `divisible_3s`.\n",
        "2. Using a for loop, print the index and the value at that index for every element in `divisible_3s`.\n",
        "3. Create a dictionary using list comprehension where the key is $x^3$ and the value is $x^2$ for x's between 1 and 4 inclusive. Assign the dictionary to variable `cube_square`.\n",
        "4. Print the key and value for every key, value pair in `cube_square`"
      ]
    },
    {
      "cell_type": "code",
      "execution_count": 5,
      "metadata": {},
      "outputs": [
        {
          "name": "stdout",
          "output_type": "stream",
          "text": [
            "[3, 6, 9]\n"
          ]
        }
      ],
      "source": [
        "divisible_3s = [x for x in range(2,11) if x%3==0]\n",
        "print(divisible_3s)"
      ]
    },
    {
      "cell_type": "code",
      "execution_count": 7,
      "metadata": {},
      "outputs": [
        {
          "name": "stdout",
          "output_type": "stream",
          "text": [
            "0 3\n",
            "1 6\n",
            "2 9\n"
          ]
        }
      ],
      "source": [
        "for x in range(len(divisible_3s)):\n",
        "    print(x,divisible_3s[x])"
      ]
    },
    {
      "cell_type": "markdown",
      "metadata": {
        "id": "UsuwA6bLXH3a"
      },
      "source": [
        "# Break and Continue\n",
        "\n",
        "`break` and `continue` are statements that can be used within loops. \n",
        "\n",
        "When code reaches a `continue` statement, it jumps to the next iteration of the loop without running the rest of the code in the loop.\n",
        "\n",
        "When code reaches a `break` statement it jumps outside the loop (skipping any remaining iterations) without running the rest of the code in the loop.\n",
        "\n",
        "A `pass` statement, finally is completely ignored. This is useful when code is required syntactically, but you don't actually want to run anything there.\n",
        "\n",
        "For these statements it may not be entirely clear right now what their purpose is, but they become particularly useful in managing more complex code."
      ]
    },
    {
      "cell_type": "code",
      "execution_count": 17,
      "metadata": {
        "colab": {
          "base_uri": "https://localhost:8080/"
        },
        "id": "UYopzdZeUPJB",
        "outputId": "5d2b13bb-1907-41c6-8648-7dbb601e40c7"
      },
      "outputs": [
        {
          "name": "stdout",
          "output_type": "stream",
          "text": [
            "New loop\n",
            "New loop\n",
            "1\n",
            "New loop\n"
          ]
        }
      ],
      "source": [
        "for i in range(3):\n",
        "  print('New loop')\n",
        "  if i%2==0:\n",
        "    continue\n",
        "  print(i) # This command is skipped for all even numbers"
      ]
    },
    {
      "cell_type": "code",
      "execution_count": 24,
      "metadata": {
        "colab": {
          "base_uri": "https://localhost:8080/"
        },
        "id": "qvO4OzE-Ug9p",
        "outputId": "73264ebc-7758-477c-a492-c0006193f270"
      },
      "outputs": [
        {
          "name": "stdout",
          "output_type": "stream",
          "text": [
            "New loop\n",
            "0\n",
            "New loop\n",
            "1\n",
            "New loop\n",
            "2\n",
            "New loop\n",
            "3\n",
            "New loop\n",
            "4\n",
            "New loop\n"
          ]
        }
      ],
      "source": [
        "for i in range(10):\n",
        "  print('New loop')\n",
        "  if i==5:\n",
        "    break # Leaves the loop completely once it encounters this statement\n",
        "  print(i)"
      ]
    },
    {
      "cell_type": "code",
      "execution_count": 25,
      "metadata": {
        "colab": {
          "base_uri": "https://localhost:8080/"
        },
        "id": "UEAZHnq8L_9S",
        "outputId": "0256c866-a174-424b-9872-cc27a4f8d850"
      },
      "outputs": [
        {
          "name": "stdout",
          "output_type": "stream",
          "text": [
            "New loop\n",
            "0\n",
            "New loop\n",
            "1\n",
            "New loop\n",
            "2\n",
            "New loop\n",
            "3\n",
            "New loop\n",
            "4\n",
            "New loop\n",
            "5\n",
            "New loop\n",
            "6\n",
            "New loop\n",
            "7\n",
            "New loop\n",
            "8\n",
            "New loop\n",
            "9\n"
          ]
        }
      ],
      "source": [
        "for i in range(10):\n",
        "  print('New loop')\n",
        "  if i==5:\n",
        "    pass # Leaves the loop completely once it encounters this statement\n",
        "  print(i)"
      ]
    },
    {
      "cell_type": "markdown",
      "metadata": {
        "id": "8S5vIY-Acd3Q"
      },
      "source": [
        "## Exercises\n",
        "\n",
        "1. Fix this code so it runs."
      ]
    },
    {
      "cell_type": "code",
      "execution_count": 26,
      "metadata": {
        "id": "zyqY-mp5cd3R"
      },
      "outputs": [
        {
          "name": "stdout",
          "output_type": "stream",
          "text": [
            "0\n",
            "1\n",
            "2\n",
            "3\n",
            "4\n",
            "5\n",
            "6\n",
            "7\n",
            "8\n",
            "9\n"
          ]
        }
      ],
      "source": [
        "for i in range(10):\n",
        "    print(i)"
      ]
    },
    {
      "cell_type": "markdown",
      "metadata": {
        "id": "p-IqL4gmcd3R"
      },
      "source": [
        "2. Add something we just learned about to this code so the last thing it prints is 10."
      ]
    },
    {
      "cell_type": "code",
      "execution_count": 29,
      "metadata": {
        "id": "Z8-cMFqXcd3R"
      },
      "outputs": [
        {
          "name": "stdout",
          "output_type": "stream",
          "text": [
            "15\n",
            "14\n",
            "13\n",
            "12\n",
            "11\n",
            "10\n"
          ]
        }
      ],
      "source": [
        "for i in range(15,9,-1):\n",
        "    print(i)"
      ]
    },
    {
      "cell_type": "markdown",
      "metadata": {
        "id": "gNg_ywtJcd3R"
      },
      "source": [
        "3. Add something we just learned to the below code so it doesn't print multiples of 3"
      ]
    },
    {
      "cell_type": "code",
      "execution_count": 31,
      "metadata": {
        "id": "te0Hsyp6cd3R"
      },
      "outputs": [
        {
          "name": "stdout",
          "output_type": "stream",
          "text": [
            "1\n",
            "2\n",
            "4\n",
            "5\n",
            "7\n",
            "8\n"
          ]
        }
      ],
      "source": [
        "for i in range(10):\n",
        "    if i%3==0:\n",
        "        continue\n",
        "    print(i)"
      ]
    },
    {
      "cell_type": "markdown",
      "metadata": {
        "id": "1s2FZYoLMH_e"
      },
      "source": [
        "# Some details on functions\n",
        "## Default arguments"
      ]
    },
    {
      "cell_type": "code",
      "execution_count": 33,
      "metadata": {
        "colab": {
          "base_uri": "https://localhost:8080/",
          "height": 185
        },
        "id": "7keLw1rjMKAR",
        "outputId": "e23993e3-dd78-4089-e439-efff96645a8b"
      },
      "outputs": [
        {
          "ename": "NameError",
          "evalue": "name 'fib_return' is not defined",
          "output_type": "error",
          "traceback": [
            "\u001b[0;31m---------------------------------------------------------------------------\u001b[0m",
            "\u001b[0;31mNameError\u001b[0m                                 Traceback (most recent call last)",
            "\u001b[1;32m/Users/zelieanner/Desktop/IntroPythonGitRepo/IntroPython/pfn_4_followup.ipynb Cell 18\u001b[0m in \u001b[0;36m<cell line: 2>\u001b[0;34m()\u001b[0m\n\u001b[1;32m      <a href='vscode-notebook-cell:/Users/zelieanner/Desktop/IntroPythonGitRepo/IntroPython/pfn_4_followup.ipynb#X21sZmlsZQ%3D%3D?line=0'>1</a>\u001b[0m \u001b[39m# We cannot run fib_return without specifying n:\u001b[39;00m\n\u001b[0;32m----> <a href='vscode-notebook-cell:/Users/zelieanner/Desktop/IntroPythonGitRepo/IntroPython/pfn_4_followup.ipynb#X21sZmlsZQ%3D%3D?line=1'>2</a>\u001b[0m fib_return()\n",
            "\u001b[0;31mNameError\u001b[0m: name 'fib_return' is not defined"
          ]
        }
      ],
      "source": [
        "# We cannot run fib_return without specifying n:\n",
        "fib_return()"
      ]
    },
    {
      "cell_type": "code",
      "execution_count": 38,
      "metadata": {
        "id": "OR9FPTvtMEdl"
      },
      "outputs": [],
      "source": [
        "# Default arguments can be specified but don't have to be:\n",
        "def fib_return (n=1):\n",
        "  \"\"\" \n",
        "  Print fibonnacci series up to n.\n",
        "  Args:\n",
        "      n (int): Maximum value of the fibonacci series to return. Default value is 1.\n",
        "  Returns:\n",
        "      list: List of fibonacci sequence values\n",
        "  \"\"\"\n",
        "\n",
        "  fib_list = []\n",
        "  a,b = 0, 1\n",
        "  while a <n:\n",
        "    fib_list.append(a)\n",
        "    next= a+b\n",
        "    a = b\n",
        "    b = next\n",
        "  return fib_list"
      ]
    },
    {
      "cell_type": "code",
      "execution_count": 41,
      "metadata": {},
      "outputs": [
        {
          "ename": "NameError",
          "evalue": "name 'fib_list' is not defined",
          "output_type": "error",
          "traceback": [
            "\u001b[0;31m---------------------------------------------------------------------------\u001b[0m",
            "\u001b[0;31mNameError\u001b[0m                                 Traceback (most recent call last)",
            "\u001b[1;32m/Users/zelieanner/Desktop/IntroPythonGitRepo/IntroPython/pfn_4_followup.ipynb Cell 20\u001b[0m in \u001b[0;36m<cell line: 1>\u001b[0;34m()\u001b[0m\n\u001b[0;32m----> <a href='vscode-notebook-cell:/Users/zelieanner/Desktop/IntroPythonGitRepo/IntroPython/pfn_4_followup.ipynb#X64sZmlsZQ%3D%3D?line=0'>1</a>\u001b[0m fib_list\n",
            "\u001b[0;31mNameError\u001b[0m: name 'fib_list' is not defined"
          ]
        }
      ],
      "source": [
        "fib_list"
      ]
    },
    {
      "cell_type": "code",
      "execution_count": 39,
      "metadata": {
        "colab": {
          "base_uri": "https://localhost:8080/"
        },
        "id": "5gdYbJT5Mq8Y",
        "outputId": "88e956a9-4bf5-4ede-d5ca-269a668e65a7"
      },
      "outputs": [
        {
          "data": {
            "text/plain": [
              "[0]"
            ]
          },
          "execution_count": 39,
          "metadata": {},
          "output_type": "execute_result"
        }
      ],
      "source": [
        "fib_return()"
      ]
    },
    {
      "cell_type": "code",
      "execution_count": 40,
      "metadata": {
        "colab": {
          "base_uri": "https://localhost:8080/"
        },
        "id": "pyqV-HW5Msc1",
        "outputId": "af350615-a29a-42c9-9b1b-cf57ee4ec429"
      },
      "outputs": [
        {
          "data": {
            "text/plain": [
              "[0, 1, 1, 2, 3, 5, 8]"
            ]
          },
          "execution_count": 40,
          "metadata": {},
          "output_type": "execute_result"
        }
      ],
      "source": [
        "fib_return(10)"
      ]
    },
    {
      "cell_type": "markdown",
      "metadata": {
        "id": "_6jR4jBrSpRj"
      },
      "source": [
        "## Positioning arguments\n",
        "\n",
        "For required arguments (i.e. arguments without a default), you can either specify the names of the arguments manually, or specify them by position:"
      ]
    },
    {
      "cell_type": "code",
      "execution_count": 43,
      "metadata": {
        "id": "F8au_SKBSoPD"
      },
      "outputs": [],
      "source": [
        "def f(a, b):\n",
        "  print('a', a)\n",
        "  print('b', b)\n"
      ]
    },
    {
      "cell_type": "code",
      "execution_count": 44,
      "metadata": {
        "colab": {
          "base_uri": "https://localhost:8080/"
        },
        "id": "3BBGNJFOTH54",
        "outputId": "0466c6c6-d4ef-4562-db7e-c289aa3807c6"
      },
      "outputs": [
        {
          "name": "stdout",
          "output_type": "stream",
          "text": [
            "a 1\n",
            "b 2\n"
          ]
        }
      ],
      "source": [
        "f(1, 2)"
      ]
    },
    {
      "cell_type": "code",
      "execution_count": null,
      "metadata": {
        "colab": {
          "base_uri": "https://localhost:8080/"
        },
        "id": "8uCIQa4RTJIm",
        "outputId": "6385afac-d042-47c3-e5a7-6371f432110e"
      },
      "outputs": [
        {
          "name": "stdout",
          "output_type": "stream",
          "text": [
            "a 1\n",
            "b 2\n"
          ]
        }
      ],
      "source": [
        "f(a=1, b=2)"
      ]
    },
    {
      "cell_type": "code",
      "execution_count": null,
      "metadata": {
        "colab": {
          "base_uri": "https://localhost:8080/"
        },
        "id": "b8booGokTKkL",
        "outputId": "b9f419e1-6d37-4ed3-fea8-877bcdad31da"
      },
      "outputs": [
        {
          "name": "stdout",
          "output_type": "stream",
          "text": [
            "a 1\n",
            "b 2\n"
          ]
        }
      ],
      "source": [
        "f(1, b=2)"
      ]
    },
    {
      "cell_type": "code",
      "execution_count": null,
      "metadata": {
        "colab": {
          "base_uri": "https://localhost:8080/"
        },
        "id": "0IY5f1VnTLlb",
        "outputId": "66f3fc98-36aa-4873-9e2b-4a900134175f"
      },
      "outputs": [
        {
          "name": "stdout",
          "output_type": "stream",
          "text": [
            "a 1\n",
            "b 2\n"
          ]
        }
      ],
      "source": [
        "f(b=2, a=1)"
      ]
    },
    {
      "cell_type": "markdown",
      "metadata": {
        "id": "h9Rc1rMgWybG"
      },
      "source": [
        "## Warning about default arguments"
      ]
    },
    {
      "cell_type": "markdown",
      "metadata": {
        "id": "IJcOlIwSW5G4"
      },
      "source": [
        "Your default arguments should never be mutable. Otherwise repeated function calls can interact with each other."
      ]
    },
    {
      "cell_type": "code",
      "execution_count": null,
      "metadata": {
        "colab": {
          "base_uri": "https://localhost:8080/"
        },
        "id": "FV8vpc3QW-Yt",
        "outputId": "74262165-e7d1-4e48-ccea-66ad496c5301"
      },
      "outputs": [
        {
          "name": "stdout",
          "output_type": "stream",
          "text": [
            "[1]\n",
            "[1, 2]\n",
            "[1, 2, 3]\n"
          ]
        }
      ],
      "source": [
        "# mutable arguments\n",
        "\n",
        "def f(a, L=[]):\n",
        "    L.append(a)\n",
        "    return L\n",
        "\n",
        "print(f(1)) # predict what will happen?\n",
        "print(f(2))\n",
        "print(f(3))"
      ]
    },
    {
      "cell_type": "code",
      "execution_count": null,
      "metadata": {
        "id": "LrqpbhBUpjtf"
      },
      "outputs": [],
      "source": [
        "# Which data types are mutable -> dictionaries and lists"
      ]
    },
    {
      "cell_type": "code",
      "execution_count": null,
      "metadata": {
        "colab": {
          "base_uri": "https://localhost:8080/"
        },
        "id": "Et7ck1k6XFfx",
        "outputId": "4fb811e5-0296-4c7f-f91d-7c4415db6bfa"
      },
      "outputs": [
        {
          "name": "stdout",
          "output_type": "stream",
          "text": [
            "[1]\n",
            "[2]\n",
            "[3]\n"
          ]
        }
      ],
      "source": [
        "# Solution\n",
        "def f(a, L=None):\n",
        "    if L is None: # None now provides a marker that we would like to use the default argument.\n",
        "        L = []\n",
        "    L.append(a)\n",
        "    return L\n",
        "  \n",
        "print(f(1))\n",
        "print(f(2))\n",
        "print(f(3))"
      ]
    },
    {
      "cell_type": "markdown",
      "metadata": {
        "id": "4NZdLmyPXvKm"
      },
      "source": [
        "## Args and kwargs"
      ]
    },
    {
      "cell_type": "markdown",
      "metadata": {
        "id": "29rU47TLX3Wu"
      },
      "source": [
        "You can also use a piece of code that allows you to provide arbitrary arguments (with or without keywords) to your function. If you use `*args` as one of the arguments of your function, this will take any unnamed argument and put all of them in a tuple:"
      ]
    },
    {
      "cell_type": "code",
      "execution_count": 51,
      "metadata": {
        "colab": {
          "base_uri": "https://localhost:8080/"
        },
        "id": "iYf7iSpBYl6H",
        "outputId": "8cab68cd-025a-4e21-e3f6-837ffb2b3c7b"
      },
      "outputs": [
        {
          "name": "stdout",
          "output_type": "stream",
          "text": [
            "1 2\n",
            "(3,)\n"
          ]
        }
      ],
      "source": [
        "def f(a, b, *args):\n",
        "  print(a,b)\n",
        "  print(args)\n",
        "f(1, 2, 3)"
      ]
    },
    {
      "cell_type": "code",
      "execution_count": 48,
      "metadata": {
        "colab": {
          "base_uri": "https://localhost:8080/"
        },
        "id": "2ruDF2iUp_Z_",
        "outputId": "ba37087d-bb99-4698-dacc-0c0004d7a68e"
      },
      "outputs": [
        {
          "name": "stdout",
          "output_type": "stream",
          "text": [
            "1 2\n",
            "(3, 4)\n"
          ]
        }
      ],
      "source": [
        "\n",
        "f(1, 2, 3, 4)"
      ]
    },
    {
      "cell_type": "code",
      "execution_count": null,
      "metadata": {
        "colab": {
          "base_uri": "https://localhost:8080/"
        },
        "id": "TAE7dacPYwW2",
        "outputId": "63b65fda-31ba-4326-a5e8-c1be2e707d5e"
      },
      "outputs": [
        {
          "name": "stdout",
          "output_type": "stream",
          "text": [
            "1\n",
            "(2, 3)\n",
            "1\n",
            "(2, 3, 4)\n"
          ]
        }
      ],
      "source": [
        "# The name args is not important\n",
        "def f(a, *variable):\n",
        "  print(a)\n",
        "  print(variable)\n",
        "f(1, 2, 3)\n",
        "f(1, 2, 3, 4)"
      ]
    },
    {
      "cell_type": "markdown",
      "metadata": {
        "id": "0mcpVppFY_go"
      },
      "source": [
        "Similarly, if you put two asterisks in front of your variable (e.g. ``**kwargs``), it will assign all names variables to kwargs (in a dictionary format)."
      ]
    },
    {
      "cell_type": "code",
      "execution_count": 54,
      "metadata": {
        "colab": {
          "base_uri": "https://localhost:8080/"
        },
        "id": "n5dVtKfsZJ87",
        "outputId": "1f2f1ff0-c902-4e66-d211-9d2e7b85e11e"
      },
      "outputs": [
        {
          "name": "stdout",
          "output_type": "stream",
          "text": [
            "1 2\n",
            "{'c': 3}\n"
          ]
        }
      ],
      "source": [
        "def f(a, b, **kwargs):\n",
        "  print(a, b)\n",
        "  print(kwargs)\n",
        "f(a=1, b=2, c=3)"
      ]
    },
    {
      "cell_type": "markdown",
      "metadata": {
        "id": "Zc0cqC5iZSRV"
      },
      "source": [
        "Again, we're mostly explaining this so you are familiar with it later on, when it will become extremely useful."
      ]
    },
    {
      "cell_type": "markdown",
      "metadata": {
        "id": "S-cXMEGRR3lV"
      },
      "source": [
        "## Exercise\n",
        "\n",
        "Given the following definiton, predict the output of the pieces of code below:"
      ]
    },
    {
      "cell_type": "code",
      "execution_count": 55,
      "metadata": {
        "id": "3sqblFsgSAhd"
      },
      "outputs": [],
      "source": [
        "def f(a, *args, b=2, **kwargs):\n",
        "  print('a', a)\n",
        "  print(args)\n",
        "  print('b', 2)\n",
        "  print(kwargs)\n"
      ]
    },
    {
      "cell_type": "markdown",
      "metadata": {
        "id": "faozfCumST-Y"
      },
      "source": [
        "1. `f(1)` \n",
        "a 1\n",
        "()\n",
        "b 2\n",
        "{}\n",
        "\n",
        "2. `f(b=1, a=1)`\n",
        "a 1\n",
        "()\n",
        "b 2\n",
        "{}\n",
        "\n",
        "3. `f(2,1)`\n",
        "a 2\n",
        "(1,)\n",
        "b 2\n",
        "{}\n",
        "\n",
        "4. `f(c=1, a=1)`\n",
        "a 1\n",
        "()\n",
        "b 2\n",
        "{'c':1}\n",
        "\n",
        "5. `f(a=2, 2,3,4, b=3, c=4, d=8)`\n",
        "\n",
        "# error? positional code can't come after argument?\n",
        "    a 2\n",
        "    (2,3,4)\n",
        "    b 2\n",
        "    {'b':3,'c':4,'d':8}\n",
        "\n",
        "\n"
      ]
    }
  ],
  "metadata": {
    "colab": {
      "collapsed_sections": [],
      "provenance": []
    },
    "kernelspec": {
      "display_name": "Python 3",
      "name": "python3"
    },
    "language_info": {
      "name": "python"
    }
  },
  "nbformat": 4,
  "nbformat_minor": 0
}
